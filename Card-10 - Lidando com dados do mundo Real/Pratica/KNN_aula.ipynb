{
 "cells": [
  {
   "cell_type": "code",
   "execution_count": 5,
   "metadata": {},
   "outputs": [
    {
     "name": "stdout",
     "output_type": "stream",
     "text": [
      "   user_id  movie_id  rating\n",
      "0        0        50       5\n",
      "1        0       172       5\n",
      "2        0       133       1\n",
      "3      196       242       3\n",
      "4      186       302       3\n"
     ]
    }
   ],
   "source": [
    "import pandas as pd\n",
    "import numpy as np\n",
    "\n",
    "#Define o nome das colunas \n",
    "r_colors = ['user_id', 'movie_id', 'rating']\n",
    "\n",
    "# - `sep='\\t'`: Usa tabulação como delimitador\n",
    "# - `names=r_colors`: Define os nomes das colunas\n",
    "# - `usecols=range(3)`: Usa apenas as três primeiras colunas do arquivo\n",
    "ratings = pd.read_csv(r'C:\\Users\\jeffe\\OneDrive\\Documentos\\Aquivos_de_C%C3%B3digo_1\\u.data', sep='\\t', names=r_colors, usecols=range(3))\n",
    "\n",
    "#printa na tela as cinco primieras linhas do DF\n",
    "print(ratings.head())\n"
   ]
  },
  {
   "cell_type": "code",
   "execution_count": 6,
   "metadata": {},
   "outputs": [
    {
     "name": "stderr",
     "output_type": "stream",
     "text": [
      "C:\\Users\\jeffe\\AppData\\Local\\Temp\\ipykernel_6316\\2611541783.py:4: FutureWarning: The provided callable <function mean at 0x000001E724AA3E20> is currently using SeriesGroupBy.mean. In a future version of pandas, the provided callable will be used directly. To keep current behavior pass the string \"mean\" instead.\n",
      "  movieProperties = ratings.groupby('movie_id').agg ({'rating': [np.size, np.mean]})\n"
     ]
    },
    {
     "data": {
      "text/html": [
       "<div>\n",
       "<style scoped>\n",
       "    .dataframe tbody tr th:only-of-type {\n",
       "        vertical-align: middle;\n",
       "    }\n",
       "\n",
       "    .dataframe tbody tr th {\n",
       "        vertical-align: top;\n",
       "    }\n",
       "\n",
       "    .dataframe thead tr th {\n",
       "        text-align: left;\n",
       "    }\n",
       "\n",
       "    .dataframe thead tr:last-of-type th {\n",
       "        text-align: right;\n",
       "    }\n",
       "</style>\n",
       "<table border=\"1\" class=\"dataframe\">\n",
       "  <thead>\n",
       "    <tr>\n",
       "      <th></th>\n",
       "      <th colspan=\"2\" halign=\"left\">rating</th>\n",
       "    </tr>\n",
       "    <tr>\n",
       "      <th></th>\n",
       "      <th>size</th>\n",
       "      <th>mean</th>\n",
       "    </tr>\n",
       "    <tr>\n",
       "      <th>movie_id</th>\n",
       "      <th></th>\n",
       "      <th></th>\n",
       "    </tr>\n",
       "  </thead>\n",
       "  <tbody>\n",
       "    <tr>\n",
       "      <th>1</th>\n",
       "      <td>452</td>\n",
       "      <td>3.878319</td>\n",
       "    </tr>\n",
       "    <tr>\n",
       "      <th>2</th>\n",
       "      <td>131</td>\n",
       "      <td>3.206107</td>\n",
       "    </tr>\n",
       "    <tr>\n",
       "      <th>3</th>\n",
       "      <td>90</td>\n",
       "      <td>3.033333</td>\n",
       "    </tr>\n",
       "    <tr>\n",
       "      <th>4</th>\n",
       "      <td>209</td>\n",
       "      <td>3.550239</td>\n",
       "    </tr>\n",
       "    <tr>\n",
       "      <th>5</th>\n",
       "      <td>86</td>\n",
       "      <td>3.302326</td>\n",
       "    </tr>\n",
       "  </tbody>\n",
       "</table>\n",
       "</div>"
      ],
      "text/plain": [
       "         rating          \n",
       "           size      mean\n",
       "movie_id                 \n",
       "1           452  3.878319\n",
       "2           131  3.206107\n",
       "3            90  3.033333\n",
       "4           209  3.550239\n",
       "5            86  3.302326"
      ]
     },
     "execution_count": 6,
     "metadata": {},
     "output_type": "execute_result"
    }
   ],
   "source": [
    "#Agrupa o DF ratings pelo movie_ID e aplica funçoes de agregação na coluna rating\n",
    "# Calcula o número de avaliações para cada 'movie_id'\n",
    "# Calcula a média das notas (ratings) para cada 'movie_id'\n",
    "movieProperties = ratings.groupby('movie_id').agg ({'rating': [np.size, np.mean]})\n",
    "movieProperties.head()"
   ]
  },
  {
   "cell_type": "code",
   "execution_count": 7,
   "metadata": {},
   "outputs": [
    {
     "name": "stdout",
     "output_type": "stream",
     "text": [
      "              size\n",
      "movie_id          \n",
      "1         0.773585\n",
      "2         0.222985\n",
      "3         0.152659\n",
      "4         0.356775\n",
      "5         0.145798\n"
     ]
    }
   ],
   "source": [
    "# Cria um novo DataFrame 'movieNumRatings' contendo a contagem de avaliações ('size') para cada filme ('movie_id')\n",
    "movieNumRatings = pd.DataFrame(movieProperties['rating']['size'])\n",
    "\n",
    "# Normaliza a contagem de avaliações para cada filme\n",
    "movieNormalizedNumRatings = movieNumRatings.apply(lambda x: (x - np.min(x)) / (np.max(x) - np.min(x)))\n",
    "\n",
    "# Exibe as primeiras cinco linhas do DataFrame normalizado 'movieNormalizedNumRatings'\n",
    "print(movieNormalizedNumRatings.head())\n"
   ]
  },
  {
   "cell_type": "code",
   "execution_count": 8,
   "metadata": {},
   "outputs": [],
   "source": [
    "movieDict = {}  # Inicializa um dicionário vazio para armazenar informações sobre filmes\n",
    "\n",
    "with open(r'C:\\Users\\jeffe\\OneDrive\\Documentos\\Aquivos_de_C%C3%B3digo_1\\u.item') as f:\n",
    "    temp = ''\n",
    "    for line in f:  # Itera sobre cada linha do arquivo\n",
    "        fields = line.rstrip('\\n').split('|')  # Remove o '\\n' e divide a linha em campos\n",
    "        movie_ID = int(fields[0])  # Converte o primeiro campo para inteiro (ID do filme)\n",
    "        name = fields[1]  # Extrai o nome do filme do segundo campo\n",
    "        genres = fields[5:25]  # Extrai os gêneros do filme (20 campos)\n",
    "        genres = list(map(int, genres))  # Converte os gêneros para inteiros\n",
    "        \n",
    "        # Atualiza o dicionário com uma tupla contendo o nome, gêneros, número normalizado de avaliações e propriedades das avaliações\n",
    "        movieDict[movie_ID] = (\n",
    "            name, \n",
    "            genres, \n",
    "            movieNormalizedNumRatings.loc[movie_ID].get('size'), \n",
    "            movieProperties.loc[movie_ID].rating\n",
    "        )\n"
   ]
  },
  {
   "cell_type": "code",
   "execution_count": 9,
   "metadata": {},
   "outputs": [
    {
     "data": {
      "text/plain": [
       "('Toy Story (1995)',\n",
       " [0, 0, 0, 1, 1, 1, 0, 0, 0, 0, 0, 0, 0, 0, 0, 0, 0, 0, 0],\n",
       " np.float64(0.7735849056603774),\n",
       " size    452.000000\n",
       " mean      3.878319\n",
       " Name: 1, dtype: float64)"
      ]
     },
     "execution_count": 9,
     "metadata": {},
     "output_type": "execute_result"
    }
   ],
   "source": [
    "movieDict[1]"
   ]
  },
  {
   "cell_type": "code",
   "execution_count": 10,
   "metadata": {},
   "outputs": [
    {
     "data": {
      "text/plain": [
       "np.float64(0.8004574042309892)"
      ]
     },
     "execution_count": 10,
     "metadata": {},
     "output_type": "execute_result"
    }
   ],
   "source": [
    "from scipy import spatial  # Importa o módulo 'spatial' da biblioteca 'scipy'\n",
    "\n",
    "# Define uma função chamada 'computeDistance' que calcula a distância combinada entre dois filmes\n",
    "def computeDistance(a, b):\n",
    "    genresA = a[1]  # Extrai os gêneros do filme 'a'\n",
    "    genresB = b[1]  # Extrai os gêneros do filme 'b'\n",
    "    genreDistance = spatial.distance.cosine(genresA, genresB)  # Calcula a distância cosseno entre os gêneros\n",
    "    popularityA = a[2]  # Extrai a popularidade do filme 'a'\n",
    "    popularityB = b[2]  # Extrai a popularidade do filme 'b'\n",
    "    popularityDistance = abs(popularityA - popularityB)  # Calcula a diferença absoluta de popularidade\n",
    "    return genreDistance + popularityDistance  # Retorna a soma da distância de gêneros e popularidade\n",
    "\n",
    "# Chama a função 'computeDistance' com os filmes de IDs 2 e 4\n",
    "computeDistance(movieDict[2], movieDict[4])\n"
   ]
  },
  {
   "cell_type": "code",
   "execution_count": 11,
   "metadata": {},
   "outputs": [
    {
     "name": "stdout",
     "output_type": "stream",
     "text": [
      "('GoldenEye (1995)', [0, 1, 1, 0, 0, 0, 0, 0, 0, 0, 0, 0, 0, 0, 0, 0, 1, 0, 0], np.float64(0.22298456260720412), size    131.000000\n",
      "mean      3.206107\n",
      "Name: 2, dtype: float64)\n",
      "('Get Shorty (1995)', [0, 1, 0, 0, 0, 1, 0, 0, 1, 0, 0, 0, 0, 0, 0, 0, 0, 0, 0], np.float64(0.3567753001715266), size    209.000000\n",
      "mean      3.550239\n",
      "Name: 4, dtype: float64)\n"
     ]
    }
   ],
   "source": [
    "print (movieDict[2])\n",
    "print (movieDict[4])\n"
   ]
  },
  {
   "cell_type": "code",
   "execution_count": 12,
   "metadata": {},
   "outputs": [
    {
     "name": "stdout",
     "output_type": "stream",
     "text": [
      "Liar Liar (1997) size    485.000000\n",
      "mean      3.156701\n",
      "Name: 294, dtype: float64\n",
      "Aladdin (1992) size    219.000000\n",
      "mean      3.812785\n",
      "Name: 95, dtype: float64\n",
      "Willy Wonka and the Chocolate Factory (1971) size    326.000000\n",
      "mean      3.631902\n",
      "Name: 151, dtype: float64\n",
      "Monty Python and the Holy Grail (1974) size    316.000000\n",
      "mean      4.066456\n",
      "Name: 168, dtype: float64\n",
      "Full Monty, The (1997) size    315.000000\n",
      "mean      3.926984\n",
      "Name: 269, dtype: float64\n",
      "George of the Jungle (1997) size    162.000000\n",
      "mean      2.685185\n",
      "Name: 259, dtype: float64\n",
      "Beavis and Butt-head Do America (1996) size    156.000000\n",
      "mean      2.788462\n",
      "Name: 240, dtype: float64\n",
      "Birdcage, The (1996) size    293.000000\n",
      "mean      3.443686\n",
      "Name: 25, dtype: float64\n",
      "Home Alone (1990) size    137.000000\n",
      "mean      3.087591\n",
      "Name: 94, dtype: float64\n",
      "Aladdin and the King of Thieves (1996) size    26.000000\n",
      "mean     2.846154\n",
      "Name: 422, dtype: float64\n"
     ]
    }
   ],
   "source": [
    "import operator  # Importa o módulo 'operator' para operações eficientes\n",
    "\n",
    "def getNeighbors(movie_ID, K):\n",
    "    distances = []  # Inicializa uma lista para armazenar as distâncias\n",
    "    for movie in movieDict: \n",
    "        if movie != movie_ID:  # Garante que o filme atual não é o filme de interesse\n",
    "            dist = computeDistance(movieDict[movie_ID], movieDict[movie])  # Calcula a distância entre os filmes\n",
    "            distances.append((movie, dist))  # Adiciona a tupla (ID do filme, distância) à lista de distâncias\n",
    "    distances.sort(key=operator.itemgetter(1))  # Ordena as distâncias em ordem crescente\n",
    "    neighbors = []  # Inicializa a lista de vizinhos\n",
    "    for x in range(K):  # Seleciona os K vizinhos mais próximos\n",
    "        neighbors.append(distances[x][0])  # Adiciona o ID do vizinho à lista de vizinhos\n",
    "    return neighbors  # Retorna a lista de vizinhos\n",
    "\n",
    "K = 10  # Define o número de vizinhos a serem encontrados\n",
    "avgRating = 0  # Inicializa a soma das avaliações dos vizinhos\n",
    "neighbors = getNeighbors(1, K)  # Encontra os 3 vizinhos mais próximos do filme com ID 1\n",
    "for neighbor in neighbors:\n",
    "    avgRating += movieDict[neighbor][3]  # Adiciona a avaliação do vizinho à soma\n",
    "    print(movieDict[neighbor][0] + \" \" + str(movieDict[neighbor][3]))  # Imprime o nome e a avaliação do vizinho\n",
    "\n",
    "avgRating /= float(K)  # Calcula a média das avaliações dos vizinhos\n"
   ]
  },
  {
   "cell_type": "code",
   "execution_count": 13,
   "metadata": {},
   "outputs": [
    {
     "data": {
      "text/plain": [
       "size    243.500000\n",
       "mean      3.344591\n",
       "Name: 294, dtype: float64"
      ]
     },
     "execution_count": 13,
     "metadata": {},
     "output_type": "execute_result"
    }
   ],
   "source": [
    "avgRating"
   ]
  },
  {
   "cell_type": "code",
   "execution_count": 14,
   "metadata": {},
   "outputs": [
    {
     "data": {
      "text/plain": [
       "('Toy Story (1995)',\n",
       " [0, 0, 0, 1, 1, 1, 0, 0, 0, 0, 0, 0, 0, 0, 0, 0, 0, 0, 0],\n",
       " np.float64(0.7735849056603774),\n",
       " size    452.000000\n",
       " mean      3.878319\n",
       " Name: 1, dtype: float64)"
      ]
     },
     "execution_count": 14,
     "metadata": {},
     "output_type": "execute_result"
    }
   ],
   "source": [
    "movieDict[1]"
   ]
  },
  {
   "cell_type": "markdown",
   "metadata": {},
   "source": [
    "Activity\n",
    "\n",
    "Que efeitos os diferentes valores de K tem nos resultados. Nossa metrica de distancia tambem foi um pouco arbitraria, apenas pegamos a distancias do cosseno entre os generos e adicionamos a diferença entre as pontuaçoes de popularidade normalizadas. Consegue melhorar?"
   ]
  },
  {
   "cell_type": "code",
   "execution_count": 16,
   "metadata": {},
   "outputs": [
    {
     "name": "stdout",
     "output_type": "stream",
     "text": [
      "Aladdin (1992) size    219.000000\n",
      "mean      3.812785\n",
      "Name: 95, dtype: float64\n",
      "Space Jam (1996) size    93.000000\n",
      "mean     2.774194\n",
      "Name: 820, dtype: float64\n",
      "Hercules (1997) size    66.000000\n",
      "mean     3.515152\n",
      "Name: 993, dtype: float64\n",
      "Aladdin and the King of Thieves (1996) size    26.000000\n",
      "mean     2.846154\n",
      "Name: 422, dtype: float64\n",
      "Goofy Movie, A (1995) size    20.0\n",
      "mean     2.9\n",
      "Name: 1219, dtype: float64\n",
      "Willy Wonka and the Chocolate Factory (1971) size    326.000000\n",
      "mean      3.631902\n",
      "Name: 151, dtype: float64\n",
      "Lion King, The (1994) size    220.000000\n",
      "mean      3.781818\n",
      "Name: 71, dtype: float64\n",
      "Babe (1995) size    219.000000\n",
      "mean      3.995434\n",
      "Name: 8, dtype: float64\n",
      "Beauty and the Beast (1991) size    202.000000\n",
      "mean      3.792079\n",
      "Name: 588, dtype: float64\n",
      "Mary Poppins (1964) size    178.000000\n",
      "mean      3.724719\n",
      "Name: 419, dtype: float64\n"
     ]
    },
    {
     "ename": "TypeError",
     "evalue": "unsupported format string passed to Series.__format__",
     "output_type": "error",
     "traceback": [
      "\u001b[1;31m---------------------------------------------------------------------------\u001b[0m",
      "\u001b[1;31mTypeError\u001b[0m                                 Traceback (most recent call last)",
      "Cell \u001b[1;32mIn[16], line 29\u001b[0m\n\u001b[0;32m     27\u001b[0m \u001b[38;5;28;01mfor\u001b[39;00m neighbor \u001b[38;5;129;01min\u001b[39;00m neighbors:\n\u001b[0;32m     28\u001b[0m     \u001b[38;5;28mprint\u001b[39m(movieDict[neighbor][\u001b[38;5;241m0\u001b[39m] \u001b[38;5;241m+\u001b[39m \u001b[38;5;124m\"\u001b[39m\u001b[38;5;124m \u001b[39m\u001b[38;5;124m\"\u001b[39m \u001b[38;5;241m+\u001b[39m \u001b[38;5;28mstr\u001b[39m(movieDict[neighbor][\u001b[38;5;241m3\u001b[39m]))\n\u001b[1;32m---> 29\u001b[0m \u001b[38;5;28mprint\u001b[39m(\u001b[38;5;124mf\u001b[39m\u001b[38;5;124m\"\u001b[39m\u001b[38;5;124mAverage Rating with improved metric: \u001b[39m\u001b[38;5;132;43;01m{\u001b[39;49;00m\u001b[43mavgRating\u001b[49m\u001b[38;5;132;43;01m:\u001b[39;49;00m\u001b[38;5;124;43m.2f\u001b[39;49m\u001b[38;5;132;43;01m}\u001b[39;49;00m\u001b[38;5;124m\"\u001b[39m)\n",
      "\u001b[1;31mTypeError\u001b[0m: unsupported format string passed to Series.__format__"
     ]
    }
   ],
   "source": [
    "import operator\n",
    "\n",
    "# Calcula a distância entre o filme alvo e os demais\n",
    "def ComputeDistance(movieA, movieB):\n",
    "    # Ajusta a metrica para priorizar a diferenca de popularidade\n",
    "    popularity_diff = abs(movieA[2] - movieB[2])  # Diferenca de popularidade\n",
    "    genre_similarity = sum([a * b for a, b in zip(movieA[1], movieB[1])])  # Generos similares\n",
    "    return popularity_diff - genre_similarity  # Maior diferença de popularidade menos a distância\n",
    "\n",
    "def getNeighbors(movieID, K, distance_metric):\n",
    "    distances = []\n",
    "    for movie in movieDict:\n",
    "        if movie != movieID:\n",
    "            dist = distance_metric(movieDict[movieID], movieDict[movie])\n",
    "            distances.append((movie, dist))\n",
    "    # Ordena os filmes pela distância, em ordem crescente (menor distância é mais próximo)\n",
    "    distances.sort(key=operator.itemgetter(1))\n",
    "    neighbors = [distances[x][0] for x in range(K)]\n",
    "    return neighbors\n",
    "\n",
    "K = 10\n",
    "# Chama a função getNeighbors para encontrar os K vizinhos mais próximos\n",
    "neighbors = getNeighbors(1, K, ComputeDistance)\n",
    "# Calcula a média das avaliações\n",
    "avgRating = sum([movieDict[neighbor][3] for neighbor in neighbors]) / K\n",
    "#Imprime o nome  e a avaliação dos vizinhos\n",
    "for neighbor in neighbors:\n",
    "    print(movieDict[neighbor][0] + \" \" + str(movieDict[neighbor][3]))\n",
    "print(f\"Average Rating with improved metric: {avgRating:.2f}\")"
   ]
  },
  {
   "cell_type": "code",
   "execution_count": 17,
   "metadata": {},
   "outputs": [
    {
     "data": {
      "text/plain": [
       "size    156.900000\n",
       "mean      3.477424\n",
       "dtype: float64"
      ]
     },
     "execution_count": 17,
     "metadata": {},
     "output_type": "execute_result"
    }
   ],
   "source": [
    "avgRating"
   ]
  },
  {
   "cell_type": "code",
   "execution_count": 18,
   "metadata": {},
   "outputs": [
    {
     "data": {
      "text/plain": [
       "('Toy Story (1995)',\n",
       " [0, 0, 0, 1, 1, 1, 0, 0, 0, 0, 0, 0, 0, 0, 0, 0, 0, 0, 0],\n",
       " np.float64(0.7735849056603774),\n",
       " size    452.000000\n",
       " mean      3.878319\n",
       " Name: 1, dtype: float64)"
      ]
     },
     "execution_count": 18,
     "metadata": {},
     "output_type": "execute_result"
    }
   ],
   "source": [
    "movieDict[1]"
   ]
  }
 ],
 "metadata": {
  "kernelspec": {
   "display_name": "Python 3",
   "language": "python",
   "name": "python3"
  },
  "language_info": {
   "codemirror_mode": {
    "name": "ipython",
    "version": 3
   },
   "file_extension": ".py",
   "mimetype": "text/x-python",
   "name": "python",
   "nbconvert_exporter": "python",
   "pygments_lexer": "ipython3",
   "version": "3.12.5"
  }
 },
 "nbformat": 4,
 "nbformat_minor": 2
}
