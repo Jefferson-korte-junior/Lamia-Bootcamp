{
 "cells": [
  {
   "cell_type": "markdown",
   "metadata": {},
   "source": [
    "Atividade\n",
    "\n",
    "Esse código treina dois modelos SVM diferentes (um com kernel polinomial de grau 2 e outro com kernel linear) para classificar dados do conjunto de dados Iris. Depois avalia e compara a acurácia desses modelos nos dados de teste."
   ]
  },
  {
   "cell_type": "code",
   "execution_count": 1,
   "metadata": {},
   "outputs": [
    {
     "name": "stdout",
     "output_type": "stream",
     "text": [
      "Acurácia com kernel polinomial de grau 2: 1.0\n",
      "Acurácia com kernel linear: 1.0\n"
     ]
    }
   ],
   "source": [
    "import numpy as np  # Importa a biblioteca NumPy para manipulação de arrays\n",
    "from sklearn import svm  # Importa o módulo SVM da biblioteca Scikit-Learn para criar e treinar o modelo SVM\n",
    "from sklearn.model_selection import train_test_split  # Importa a função para dividir os dados em conjuntos de treino e teste\n",
    "from sklearn.datasets import load_iris  # Importa um conjunto de dados de exemplo (Iris)\n",
    "\n",
    "data = load_iris()  # Carrega o conjunto de dados Iris\n",
    "X = data.data  # Extrai as características dos dados\n",
    "y = data.target  # Extrai as etiquetas correspondentes às espécies de íris\n",
    "\n",
    "# Dividir os dados em conjuntos de treino e teste\n",
    "X_train, X_test, y_train, y_test = train_test_split(X, y, test_size=0.3, random_state=42)\n",
    "# Divide os dados em conjuntos de treinamento (70%) e teste (30%), garantindo a reprodutibilidade com random_state=42\n",
    "\n",
    "# Tentando um kernel polinomial de grau 2 e comparando com o kernel linear:\n",
    "\n",
    "# SVM com kernel polinomial de grau 2\n",
    "clf_poly_2 = svm.SVC(kernel='poly', degree=2, C=1).fit(X_train, y_train)\n",
    "# Cria um classificador SVM com kernel polinomial de grau 2 e parâmetro de regularização C=1, e treina o classificador com os dados de treinamento X_train e y_train\n",
    "\n",
    "# Acurácia com dados de teste usando o kernel polinomial de grau 2\n",
    "accuracy_poly_2 = clf_poly_2.score(X_test, y_test)\n",
    "print(f\"Acurácia com kernel polinomial de grau 2: {accuracy_poly_2}\")\n",
    "# Calcula a acurácia do classificador nos dados de teste X_test e y_test, e exibe a acurácia do classificador com kernel polinomial de grau 2\n",
    "\n",
    "# SVM com kernel linear\n",
    "clf_linear = svm.SVC(kernel='linear', C=1).fit(X_train, y_train)\n",
    "# Cria um classificador SVM com kernel linear e parâmetro de regularização C=1, e treina o classificador com os dados de treinamento X_train e y_train\n",
    "\n",
    "# Acurácia com dados de teste usando o kernel linear\n",
    "accuracy_linear = clf_linear.score(X_test, y_test)\n",
    "print(f\"Acurácia com kernel linear: {accuracy_linear}\")\n",
    "# Calcula a acurácia do classificador nos dados de teste X_test e y_test, e exibe a acurácia do classificador com kernel linear\n"
   ]
  }
 ],
 "metadata": {
  "kernelspec": {
   "display_name": "Python 3",
   "language": "python",
   "name": "python3"
  },
  "language_info": {
   "codemirror_mode": {
    "name": "ipython",
    "version": 3
   },
   "file_extension": ".py",
   "mimetype": "text/x-python",
   "name": "python",
   "nbconvert_exporter": "python",
   "pygments_lexer": "ipython3",
   "version": "3.12.5"
  }
 },
 "nbformat": 4,
 "nbformat_minor": 2
}
