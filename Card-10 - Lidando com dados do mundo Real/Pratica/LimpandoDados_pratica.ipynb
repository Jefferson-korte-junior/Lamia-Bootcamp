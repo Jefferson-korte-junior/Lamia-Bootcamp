{
 "cells": [
  {
   "cell_type": "markdown",
   "metadata": {},
   "source": [
    "Atividade\n",
    "\n",
    "Processa um arquivo de log de acessos, conta o número de acessos por URL, e separa e analisa entradas específicas que contêm \"/feed\". Em seguida, exibe as 20 URLs mais acessadas e as primeiras 10 entradas relacionadas a \"/feed\"."
   ]
  },
  {
   "cell_type": "code",
   "execution_count": 1,
   "metadata": {},
   "outputs": [
    {
     "ename": "NameError",
     "evalue": "name 'logPath' is not defined",
     "output_type": "error",
     "traceback": [
      "\u001b[1;31m---------------------------------------------------------------------------\u001b[0m",
      "\u001b[1;31mNameError\u001b[0m                                 Traceback (most recent call last)",
      "Cell \u001b[1;32mIn[1], line 7\u001b[0m\n\u001b[0;32m      4\u001b[0m URLCounts \u001b[38;5;241m=\u001b[39m {}\n\u001b[0;32m      5\u001b[0m FeedRequests \u001b[38;5;241m=\u001b[39m []  \u001b[38;5;66;03m# Lista para armazenar linhas do log com \"/feed\" para análise\u001b[39;00m\n\u001b[1;32m----> 7\u001b[0m \u001b[38;5;28;01mwith\u001b[39;00m \u001b[38;5;28mopen\u001b[39m(\u001b[43mlogPath\u001b[49m, \u001b[38;5;124m\"\u001b[39m\u001b[38;5;124mr\u001b[39m\u001b[38;5;124m\"\u001b[39m) \u001b[38;5;28;01mas\u001b[39;00m f:\n\u001b[0;32m      8\u001b[0m     \u001b[38;5;28;01mfor\u001b[39;00m line \u001b[38;5;129;01min\u001b[39;00m (l\u001b[38;5;241m.\u001b[39mrstrip() \u001b[38;5;28;01mfor\u001b[39;00m l \u001b[38;5;129;01min\u001b[39;00m f):  \u001b[38;5;66;03m# Lê o arquivo linha por linha, removendo espaços em branco à direita\u001b[39;00m\n\u001b[0;32m      9\u001b[0m         match \u001b[38;5;241m=\u001b[39m format_pat\u001b[38;5;241m.\u001b[39mmatch(line)  \u001b[38;5;66;03m# Verifica se a linha corresponde ao padrão esperado\u001b[39;00m\n",
      "\u001b[1;31mNameError\u001b[0m: name 'logPath' is not defined"
     ]
    }
   ],
   "source": [
    " \n",
    "URLCounts = {}\n",
    "FeedRequests = []  # Lista para armazenar linhas do log com \"/feed\" para análise\n",
    "\n",
    "with open(logPath, \"r\") as f:\n",
    "    for line in (l.rstrip() for l in f):  # Lê o arquivo linha por linha, removendo espaços em branco à direita\n",
    "        match = format_pat.match(line)  # Verifica se a linha corresponde ao padrão esperado\n",
    "        if match:\n",
    "            access = match.groupdict()  # Extrai os campos nomeados do padrão\n",
    "            request = access['request']  # Obtém o campo 'request'\n",
    "            fields = request.split()  # Divide a string 'request' em partes\n",
    "\n",
    "            # Verifica se o formato do request é válido e igual a 3 partes\n",
    "            if len(fields) == 3:\n",
    "                action, URL, protocol = fields  # Desempacota as partes em variáveis\n",
    "\n",
    "                # Filtra URLs que contenham \"/feed\"\n",
    "                if \"/feed\" in URL:\n",
    "                    FeedRequests.append(line)  # Adiciona a linha do log à lista para análise\n",
    "                    continue  # Pula a contagem para essas URLs\n",
    "                \n",
    "                # Apenas conta requests do tipo GET\n",
    "                if action == \"GET\":\n",
    "                    if URL in URLCounts:\n",
    "                        URLCounts[URL] += 1  # Incrementa a contagem para a URL ja existente\n",
    "                    else:\n",
    "                        URLCounts[URL] = 1  # Inicializa a contagem para uma nova URL\n",
    "\n",
    "# Ordena os resultados com base na contagem das URLs\n",
    "results = sorted(URLCounts, key=lambda i: URLCounts[i], reverse=True)\n",
    "\n",
    "# Exibe as 20 URLs mais acessadas\n",
    "print(\"Top 20 URLs:\")\n",
    "for result in results[:20]:\n",
    "    print(result + \": \" + str(URLCounts[result]))\n",
    "\n",
    "# Analisa as entradas relacionadas a \"/feed\"\n",
    "print(\"\\nEntradas do log para '/feed':\")\n",
    "for feed_request in FeedRequests[:10]:  # Exibe as primeiras 10 entradas para análise\n",
    "    print(feed_request)\n"
   ]
  }
 ],
 "metadata": {
  "kernelspec": {
   "display_name": "Python 3",
   "language": "python",
   "name": "python3"
  },
  "language_info": {
   "codemirror_mode": {
    "name": "ipython",
    "version": 3
   },
   "file_extension": ".py",
   "mimetype": "text/x-python",
   "name": "python",
   "nbconvert_exporter": "python",
   "pygments_lexer": "ipython3",
   "version": "3.12.5"
  }
 },
 "nbformat": 4,
 "nbformat_minor": 2
}
