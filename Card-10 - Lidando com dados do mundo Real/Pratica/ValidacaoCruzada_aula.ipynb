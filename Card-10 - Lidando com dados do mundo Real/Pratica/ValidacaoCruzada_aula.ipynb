{
 "cells": [
  {
   "cell_type": "code",
   "execution_count": 2,
   "metadata": {},
   "outputs": [],
   "source": [
    "import numpy as np\n",
    "from sklearn.model_selection import cross_val_score, train_test_split #Essa função é usada para avaliar o desempenho de um modelo usando a validação cruzada\n",
    "from sklearn import datasets #Este módulo contém vários conjuntos de dados de exemplo que podem ser usados para treinar e testar modelos\n",
    "from sklearn import svm #fornece ferramentas para criar e treinar máquinas de vetor de suporte\n",
    "\n",
    "iris = datasets.load_iris() ## Carrega um conjunto de dados Iris, que contém informações sobre diferentes espécies de flores Iris"
   ]
  },
  {
   "cell_type": "code",
   "execution_count": 3,
   "metadata": {},
   "outputs": [
    {
     "data": {
      "text/plain": [
       "0.9666666666666667"
      ]
     },
     "execution_count": 3,
     "metadata": {},
     "output_type": "execute_result"
    }
   ],
   "source": [
    "#Divide o conjunto de dados em conjuntos de treinamentos e testes\n",
    "X_train, X_test, Y_train, Y_test = train_test_split(iris.data, iris.target, test_size=0.4, random_state=0)\n",
    "# train_test_split divide o conjunto de dados em dois subconjuntos: \n",
    "# X_train e y_train: Usados para treinar o modelo \n",
    "# X_test e y_test: Usados para testar o modelo \n",
    "# test_size=0.4 significa que 40% dos dados são usados para teste, e 60% para treinamento\n",
    "# random_state=0 garante que a divisão dos dados seja sempre a mesma cada vez que o código é executado, permitindo a reprodutibilidade\n",
    "\n",
    "\n",
    "#Cria um classificador SVM com kerne linear\n",
    "clf = svm.SVC(kernel='linear', C=1).fit(X_train, Y_train)\n",
    "# svm.SVC cria um classificador de Máquina de Vetores de Suporte (SVM) com um kernel linear\n",
    "# kernel='linear' especifica que o kernel usado é linear \n",
    "# C=1 é o parâmetro de regularização, que controla a penalidade para erros de classificação\n",
    "# fit(X_train, y_train) treina o modelo usando os dados de treinamento\n",
    "\n",
    "\n",
    "# Avalia o modelo no conjunto de teste\n",
    "clf.score(X_test, Y_test)\n",
    "# score(X_test, y_test) avalia a performance do modelo treinado nos dados de teste\n",
    "# Retorna a acurácia do modelo, que é a proporção de previsões corretas em relação ao total de previsões"
   ]
  },
  {
   "cell_type": "code",
   "execution_count": 4,
   "metadata": {},
   "outputs": [
    {
     "name": "stdout",
     "output_type": "stream",
     "text": [
      "[0.96666667 1.         0.96666667 0.96666667 1.        ]\n",
      "0.9800000000000001\n"
     ]
    }
   ],
   "source": [
    "# Realiza a validação cruzada de 5 folds no classificador SVM usando o conjunto de dados Iris\n",
    "scores = cross_val_score(clf, iris.data, iris.target, cv=5)\n",
    "# cross_val_score realiza a validação cruzada:\n",
    "# clf é o classificador a ser validado\n",
    "# iris.data são os dados de entrada (características das flores)\n",
    "# iris.target são as etiquetas de classe (espécies das flores)\n",
    "# cv=5 especifica que será utilizada uma validação cruzada de 5 folds\n",
    "\n",
    "\n",
    "# Imprime as acurácias de cada fold da validação cruzada\n",
    "print (scores)\n",
    "# Exibe as acurácias do modelo em cada fold da validação cruzada\n",
    "\n",
    "\n",
    "# Imprime a acurácia média do modelo\n",
    "print (scores.mean())"
   ]
  },
  {
   "cell_type": "code",
   "execution_count": 5,
   "metadata": {},
   "outputs": [
    {
     "name": "stdout",
     "output_type": "stream",
     "text": [
      "[0.96666667 1.         0.96666667 0.96666667 1.        ]\n",
      "0.9800000000000001\n"
     ]
    }
   ],
   "source": [
    "# Cria um classificador SVM com kernel polinomial \n",
    "# svm.SVC cria um classificador de Máquina de Vetores de Suporte (SVM) com um kernel polinomial \n",
    "# kernel='poly' especifica que o kernel usado é polinomial\n",
    "# C=1 é o parâmetro de regularização, que controla a penalidade para erros de classificação\n",
    "clf = svm.SVC(kernel='poly', C=1).fit(X_train, Y_train)\n",
    "\n",
    "\n",
    "# Realiza a validação cruzada de 5 folds no classificador SVM usando o conjunto de dados Iris \n",
    "# cross_val_score realiza a validação cruzada: # clf é o classificador a ser validado\n",
    "# iris.data são os dados de entrada (características das flores) \n",
    "# iris.target são as etiquetas de classe (espécies das flores)\n",
    "# cv=5 especifica que será utilizada uma validação cruzada de 5 folds\n",
    "scores = cross_val_score(clf, iris.data, iris.target, cv=5)\n",
    "\n",
    "\n",
    "# Imprime as acurácias de cada fold da validação cruzada\n",
    "print (scores)\n",
    "\n",
    "# Imprime a acurácia média do modelo\n",
    "print (scores.mean())"
   ]
  },
  {
   "cell_type": "code",
   "execution_count": 6,
   "metadata": {},
   "outputs": [
    {
     "data": {
      "text/plain": [
       "0.9"
      ]
     },
     "execution_count": 6,
     "metadata": {},
     "output_type": "execute_result"
    }
   ],
   "source": [
    "clf = svm.SVC(kernel ='poly', C=1).fit(X_train, Y_train)\n",
    "\n",
    "clf.score(X_test, Y_test)"
   ]
  },
  {
   "cell_type": "code",
   "execution_count": 7,
   "metadata": {},
   "outputs": [],
   "source": [
    "# Cria um classificador SVM com kernel polinomial e treina o modelo\n",
    "clf = svm.SVC(kernel='poly', C=1).fit(X_train, Y_train)\n",
    "# svm.SVC cria um classificador de Máquina de Vetores de Suporte (SVM) com um kernel polinomial.\n",
    "# kernel='poly' especifica que o kernel usado é polinomial.\n",
    "# C=1 é o parâmetro de regularização, que controla a penalidade para erros de classificação.\n",
    "# .fit(X_train, Y_train) treina o classificador SVM usando os dados de treinamento (X_train e Y_train).\n",
    "\n",
    "\n",
    "\n",
    "# Avalia o modelo no conjunto de teste e retorna a acurácia\n",
    "accuracy = clf.score(X_test, Y_test)\n",
    "# .score(X_test, Y_test) avalia a performance do modelo treinado nos dados de teste.\n",
    "# Retorna a acurácia do modelo, que é a proporção de previsões corretas feitas pelo modelo em relação ao total de previsões."
   ]
  },
  {
   "cell_type": "markdown",
   "metadata": {},
   "source": [
    "Activity\n",
    "\n",
    "Esse código treina dois modelos SVM diferentes (um com kernel polinomial de grau 2 e outro com kernel linear) para classificar dados do conjunto de dados Iris. Depois avalia e compara a acurácia desses modelos nos dados de teste."
   ]
  },
  {
   "cell_type": "code",
   "execution_count": null,
   "metadata": {},
   "outputs": [
    {
     "name": "stdout",
     "output_type": "stream",
     "text": [
      "Acurácia com kernel polinomial de grau 2: 1.0\n",
      "Acurácia com kernel linear: 1.0\n"
     ]
    }
   ],
   "source": [
    "import numpy as np  # Importa a biblioteca NumPy para manipulação de arrays\n",
    "from sklearn import svm  # Importa o módulo SVM da biblioteca Scikit-Learn para criar e treinar o modelo SVM\n",
    "from sklearn.model_selection import train_test_split  # Importa a função para dividir os dados em conjuntos de treino e teste\n",
    "from sklearn.datasets import load_iris  # Importa um conjunto de dados de exemplo (Iris)\n",
    "\n",
    "data = load_iris()  # Carrega o conjunto de dados Iris\n",
    "X = data.data  # Extrai as características dos dados\n",
    "y = data.target  # Extrai as etiquetas correspondentes às espécies de íris\n",
    "\n",
    "# Dividir os dados em conjuntos de treino e teste\n",
    "X_train, X_test, y_train, y_test = train_test_split(X, y, test_size=0.3, random_state=42)\n",
    "# Divide os dados em conjuntos de treinamento (70%) e teste (30%), garantindo a reprodutibilidade com random_state=42\n",
    "\n",
    "# Tentando um kernel polinomial de grau 2 e comparando com o kernel linear:\n",
    "\n",
    "# SVM com kernel polinomial de grau 2\n",
    "clf_poly_2 = svm.SVC(kernel='poly', degree=2, C=1).fit(X_train, y_train)\n",
    "# Cria um classificador SVM com kernel polinomial de grau 2 e parâmetro de regularização C=1, e treina o classificador com os dados de treinamento X_train e y_train\n",
    "\n",
    "# Acurácia com dados de teste usando o kernel polinomial de grau 2\n",
    "accuracy_poly_2 = clf_poly_2.score(X_test, y_test)\n",
    "print(f\"Acurácia com kernel polinomial de grau 2: {accuracy_poly_2}\")\n",
    "# Calcula a acurácia do classificador nos dados de teste X_test e y_test, e exibe a acurácia do classificador com kernel polinomial de grau 2\n",
    "\n",
    "# SVM com kernel linear\n",
    "clf_linear = svm.SVC(kernel='linear', C=1).fit(X_train, y_train)\n",
    "# Cria um classificador SVM com kernel linear e parâmetro de regularização C=1, e treina o classificador com os dados de treinamento X_train e y_train\n",
    "\n",
    "# Acurácia com dados de teste usando o kernel linear\n",
    "accuracy_linear = clf_linear.score(X_test, y_test)\n",
    "print(f\"Acurácia com kernel linear: {accuracy_linear}\")\n",
    "# Calcula a acurácia do classificador nos dados de teste X_test e y_test, e exibe a acurácia do classificador com kernel linear\n"
   ]
  },
  {
   "cell_type": "code",
   "execution_count": null,
   "metadata": {},
   "outputs": [],
   "source": []
  }
 ],
 "metadata": {
  "kernelspec": {
   "display_name": "Python 3",
   "language": "python",
   "name": "python3"
  },
  "language_info": {
   "codemirror_mode": {
    "name": "ipython",
    "version": 3
   },
   "file_extension": ".py",
   "mimetype": "text/x-python",
   "name": "python",
   "nbconvert_exporter": "python",
   "pygments_lexer": "ipython3",
   "version": "3.12.5"
  }
 },
 "nbformat": 4,
 "nbformat_minor": 2
}
