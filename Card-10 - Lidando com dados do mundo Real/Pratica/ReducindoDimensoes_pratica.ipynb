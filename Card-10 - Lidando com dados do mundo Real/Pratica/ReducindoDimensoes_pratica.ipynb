{
 "cells": [
  {
   "cell_type": "markdown",
   "metadata": {},
   "source": [
    "Atividade\n",
    "\n",
    "Transformando esses dados para uma unica dimensao e ainda preserva boa parte da sua variancia."
   ]
  },
  {
   "cell_type": "code",
   "execution_count": 1,
   "metadata": {},
   "outputs": [
    {
     "data": {
      "text/plain": [
       "np.float64(92.46187232017341)"
      ]
     },
     "execution_count": 1,
     "metadata": {},
     "output_type": "execute_result"
    }
   ],
   "source": [
    "from sklearn.datasets import load_iris  # Importa o conjunto de dados Iris da biblioteca Scikit-Learn\n",
    "from sklearn.decomposition import PCA  # Importa o algoritmo de Análise de Componentes Principais (PCA)\n",
    "\n",
    "# Carregando os dados\n",
    "\n",
    "iris = load_iris()  # Carrega o conjunto de dados Iris\n",
    "X = iris.data  # Extrai as características dos dados \n",
    "\n",
    "# Realizando o PCA para 1 componente\n",
    "pca = PCA(n_components=1).fit(X)  # Cria um objeto PCA com 1 componente principal e ajusta aos dados X\n",
    "X_pca_1d = pca.transform(X)  # Transforma os dados X para o novo espaço de 1 componente principal\n",
    "\n",
    "# Verificando a variância explicada\n",
    "explained_variance = pca.explained_variance_ratio_[0] * 100  # Percentual da variância explicada pelo único componente principal\n",
    "\n",
    "explained_variance  # Exibe a variância explicada pelo único componente principal\n"
   ]
  }
 ],
 "metadata": {
  "kernelspec": {
   "display_name": "Python 3",
   "language": "python",
   "name": "python3"
  },
  "language_info": {
   "codemirror_mode": {
    "name": "ipython",
    "version": 3
   },
   "file_extension": ".py",
   "mimetype": "text/x-python",
   "name": "python",
   "nbconvert_exporter": "python",
   "pygments_lexer": "ipython3",
   "version": "3.12.5"
  }
 },
 "nbformat": 4,
 "nbformat_minor": 2
}
